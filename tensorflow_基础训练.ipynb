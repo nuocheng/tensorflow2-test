{
 "cells": [
  {
   "cell_type": "code",
   "execution_count": 2,
   "metadata": {},
   "outputs": [
    {
     "data": {
      "text/plain": [
       "'2.1.0'"
      ]
     },
     "execution_count": 2,
     "metadata": {},
     "output_type": "execute_result"
    }
   ],
   "source": [
    "import tensorflow as tf\n",
    "tf.__version__"
   ]
  },
  {
   "cell_type": "markdown",
   "metadata": {},
   "source": [
    "#### 创建数据类型"
   ]
  },
  {
   "cell_type": "code",
   "execution_count": 3,
   "metadata": {},
   "outputs": [
    {
     "name": "stdout",
     "output_type": "stream",
     "text": [
      "tf.Tensor([1 3], shape=(2,), dtype=int64)\n",
      "<dtype: 'int64'>\n",
      "(2,)\n"
     ]
    }
   ],
   "source": [
    "a=tf.constant([1,3],dtype=tf.int64)\n",
    "print(a)\n",
    "print(a.dtype)\n",
    "print(a.shape)"
   ]
  },
  {
   "cell_type": "markdown",
   "metadata": {},
   "source": [
    "##### numpy格式转化成tensor"
   ]
  },
  {
   "cell_type": "code",
   "execution_count": 4,
   "metadata": {},
   "outputs": [
    {
     "name": "stdout",
     "output_type": "stream",
     "text": [
      "[0 1 2 3 4]\n",
      "tf.Tensor([0 1 2 3 4], shape=(5,), dtype=int64)\n"
     ]
    }
   ],
   "source": [
    "import numpy as np\n",
    "a=np.arange(0,5)\n",
    "b=tf.convert_to_tensor(a,dtype=tf.int64)\n",
    "print(a)\n",
    "print(b)"
   ]
  },
  {
   "cell_type": "markdown",
   "metadata": {},
   "source": [
    "##### 创建tensor的方法"
   ]
  },
  {
   "cell_type": "code",
   "execution_count": 6,
   "metadata": {
    "scrolled": true
   },
   "outputs": [
    {
     "name": "stdout",
     "output_type": "stream",
     "text": [
      "tf.Tensor(\n",
      "[[0. 0. 0.]\n",
      " [0. 0. 0.]], shape=(2, 3), dtype=float32)\n",
      "tf.Tensor(\n",
      "[[1. 1. 1.]\n",
      " [1. 1. 1.]\n",
      " [1. 1. 1.]], shape=(3, 3), dtype=float32)\n",
      "tf.Tensor(\n",
      "[[9 9]\n",
      " [9 9]], shape=(2, 2), dtype=int32)\n"
     ]
    }
   ],
   "source": [
    "a=tf.zeros([2,3])\n",
    "b=tf.ones([3,3])\n",
    "c=tf.fill([2,2],9)\n",
    "print(a)\n",
    "print(b)\n",
    "print(c)"
   ]
  },
  {
   "cell_type": "markdown",
   "metadata": {},
   "source": [
    "- 生成初始化参数\n",
    " - 生成正态分布的随机函数，默认均值为0，标准差为1\n",
    "   tf.random.normal(维度，mean=均值，stddev=标准差)\n",
    " - 生成截断式正态分布的随机函数\n",
    "   tf.random.truncated_normal(维度，mean=均值，stddev=标准差)\n",
    " - 生成均匀分布随机函数\n",
    "   tf.random.uniform(维度,minval=最小值，maxval=最大值)"
   ]
  },
  {
   "cell_type": "code",
   "execution_count": 9,
   "metadata": {},
   "outputs": [
    {
     "name": "stdout",
     "output_type": "stream",
     "text": [
      "tf.Tensor(\n",
      "[[-0.7462357   1.8542514 ]\n",
      " [ 1.171151    0.70981777]], shape=(2, 2), dtype=float32)\n",
      "tf.Tensor(\n",
      "[[1.2693284 1.2608747]\n",
      " [1.0530818 2.3834243]], shape=(2, 2), dtype=float32)\n",
      "tf.Tensor(\n",
      "[[2.6329389 2.1327388]\n",
      " [1.0652857 2.623557 ]], shape=(2, 2), dtype=float32)\n"
     ]
    }
   ],
   "source": [
    "d=tf.random.normal([2,2],mean=1,stddev=1)\n",
    "print(d)\n",
    "h=tf.random.truncated_normal([2,2],mean=1,stddev=1)\n",
    "print(h)\n",
    "g=tf.random.uniform([2,2],minval=1,maxval=3)\n",
    "print(g)"
   ]
  },
  {
   "cell_type": "markdown",
   "metadata": {},
   "source": [
    "##### 常用函数\n",
    "- 强制tensor转化数据类型\n",
    "  tf.cast(张量名，dtype=数据类型)\n",
    "- 计算张量的最小值\n",
    "  tf.reduce_min(张量名)\n",
    "- 计算张量维度上元素的最大值\n",
    "  tf.reduce_max(张量名)\n",
    "- 计算张量沿着指定维度的平均值\n",
    "  tf.reduce_mean(张量，axis=操作轴)\n",
    "- 计算张量沿着指定维度的和\n",
    "  tf.reduce_sum(张量，axis=操作轴)\n",
    "  \n",
    "- tf.Variable()将变量标记为“可训练”，被标记的变量会在反向传播中记录梯度信息。\n",
    "  tf.Variable(初始化）"
   ]
  },
  {
   "cell_type": "code",
   "execution_count": 16,
   "metadata": {},
   "outputs": [
    {
     "name": "stdout",
     "output_type": "stream",
     "text": [
      "tf.Tensor([1 2 3 4], shape=(4,), dtype=int64)\n",
      "tf.Tensor([1. 2. 3. 4.], shape=(4,), dtype=float32)\n",
      "tf.Tensor(4, shape=(), dtype=int64)\n",
      "tf.Tensor(1, shape=(), dtype=int64)\n",
      "tf.Tensor(2, shape=(), dtype=int64)\n",
      "tf.Tensor(\n",
      "[[4.4295278 1.6647477 1.1110783]\n",
      " [4.702087  4.9197555 1.5433707]\n",
      " [2.2885685 4.11473   3.3056374]], shape=(3, 3), dtype=float32)\n",
      "tf.Tensor([4.4295278 4.9197555 4.11473  ], shape=(3,), dtype=float32)\n",
      "tf.Tensor([11.420183  10.699233   5.9600863], shape=(3,), dtype=float32)\n"
     ]
    }
   ],
   "source": [
    "a=tf.constant([1,2,3,4],dtype=tf.int64)\n",
    "print(a)\n",
    "print(tf.cast(a,dtype=tf.float32))\n",
    "print(tf.reduce_max(a))\n",
    "print(tf.reduce_min(a))\n",
    "print(tf.reduce_mean(a))\n",
    "b=tf.random.uniform([3,3],maxval=5,minval=1)\n",
    "print(b)\n",
    "print(tf.reduce_max(b,axis=1))\n",
    "print(tf.reduce_sum(b,axis=0))"
   ]
  },
  {
   "cell_type": "markdown",
   "metadata": {},
   "source": [
    "##### 常用的计算函数\n",
    "- 四则运算：tf.add, tf.subtract, tf.multiply, tf.divide\n",
    "- 平方、次方与开方：tf.square, tf.pow, tf.sqrt\n",
    "- 矩阵相乘：tf.matmul"
   ]
  },
  {
   "cell_type": "code",
   "execution_count": 29,
   "metadata": {},
   "outputs": [
    {
     "name": "stdout",
     "output_type": "stream",
     "text": [
      "tf.Tensor(\n",
      "[[1. 1.]\n",
      " [1. 1.]], shape=(2, 2), dtype=float32)\n",
      "tf.Tensor(\n",
      "[[4. 4.]\n",
      " [4. 4.]], shape=(2, 2), dtype=float32)\n",
      "tf.Tensor(\n",
      "[[5. 5.]\n",
      " [5. 5.]], shape=(2, 2), dtype=float32)\n",
      "tf.Tensor(\n",
      "[[3. 3.]\n",
      " [3. 3.]], shape=(2, 2), dtype=float32)\n",
      "tf.Tensor(\n",
      "[[4. 4.]\n",
      " [4. 4.]], shape=(2, 2), dtype=float32)\n",
      "tf.Tensor(\n",
      "[[16. 16.]\n",
      " [16. 16.]], shape=(2, 2), dtype=float32)\n",
      "tf.Tensor(\n",
      "[[2. 2.]\n",
      " [2. 2.]], shape=(2, 2), dtype=float32)\n",
      "tf.Tensor(\n",
      "[[8. 8.]\n",
      " [8. 8.]], shape=(2, 2), dtype=float32)\n"
     ]
    }
   ],
   "source": [
    "a=tf.ones([2,2],dtype=tf.float32)\n",
    "b=tf.fill([2,2],4)\n",
    "b=tf.cast(b,dtype=tf.float32)\n",
    "print(a)\n",
    "print(b)\n",
    "print(tf.add(a,b))\n",
    "print(tf.subtract(b,a))\n",
    "print(tf.multiply(a,b))\n",
    "print(tf.pow(b,2))\n",
    "print(tf.sqrt(b))\n",
    "print(tf.matmul(a,b))"
   ]
  },
  {
   "cell_type": "markdown",
   "metadata": {},
   "source": [
    "##### 常见的函数\n",
    "- 构建数据集 tf.data.Dataset.from_tensor_slices((数据特征，标签)) 该函数可以使用numpy格式也可以使用tensor格式"
   ]
  },
  {
   "cell_type": "code",
   "execution_count": 31,
   "metadata": {},
   "outputs": [
    {
     "name": "stdout",
     "output_type": "stream",
     "text": [
      "(<tf.Tensor: shape=(2,), dtype=float32, numpy=array([2.9200177, 2.4266734], dtype=float32)>, <tf.Tensor: shape=(), dtype=int32, numpy=1>)\n",
      "(<tf.Tensor: shape=(2,), dtype=float32, numpy=array([3.2549915, 2.505282 ], dtype=float32)>, <tf.Tensor: shape=(), dtype=int32, numpy=0>)\n",
      "(<tf.Tensor: shape=(2,), dtype=float32, numpy=array([2.5694127, 2.1554089], dtype=float32)>, <tf.Tensor: shape=(), dtype=int32, numpy=0>)\n"
     ]
    }
   ],
   "source": [
    "feature=tf.random.uniform([3,2],maxval=5,minval=1)\n",
    "labels=tf.constant([1,0,0])\n",
    "datasets=tf.data.Dataset.from_tensor_slices((feature,labels))\n",
    "for ele in datasets:\n",
    "    print(ele)"
   ]
  },
  {
   "cell_type": "markdown",
   "metadata": {},
   "source": [
    "##### 常见的函数\n",
    "- tf.GradientTape 计算求导,使用with结构\n",
    "- tf.one_hot(数据，depth=几分类)常用与分类问题\n",
    "- tf.nn.softmax(x) 输出符合概率分布\n",
    "- assign_sub常用于函数自更新\n",
    "- tf.argmax(张量名，axis=？)用户返回张量的指定维度的最大索引"
   ]
  },
  {
   "cell_type": "code",
   "execution_count": 34,
   "metadata": {},
   "outputs": [
    {
     "name": "stdout",
     "output_type": "stream",
     "text": [
      "tf.Tensor(6.0, shape=(), dtype=float32)\n"
     ]
    }
   ],
   "source": [
    "with tf.GradientTape() as tape:\n",
    "    w=tf.Variable(tf.constant(3.0))\n",
    "    loss=tf.pow(w,2)\n",
    "grad=tape.gradient(loss,w)\n",
    "print(grad)"
   ]
  },
  {
   "cell_type": "code",
   "execution_count": 36,
   "metadata": {},
   "outputs": [
    {
     "name": "stdout",
     "output_type": "stream",
     "text": [
      "tf.Tensor(\n",
      "[[0. 1. 0.]\n",
      " [1. 0. 0.]\n",
      " [0. 0. 1.]], shape=(3, 3), dtype=float32)\n"
     ]
    }
   ],
   "source": [
    "classes=3\n",
    "labels=tf.constant([1,0,2])\n",
    "output=tf.one_hot(labels,depth=3)\n",
    "print(output)"
   ]
  },
  {
   "cell_type": "code",
   "execution_count": 39,
   "metadata": {},
   "outputs": [
    {
     "name": "stdout",
     "output_type": "stream",
     "text": [
      "tf.Tensor([0.01165623 0.03168492 0.08612854 0.23412165 0.6364086 ], shape=(5,), dtype=float32)\n"
     ]
    }
   ],
   "source": [
    "h=tf.constant([1.,2.,3.,4.,5.])\n",
    "print(tf.nn.softmax(h))"
   ]
  },
  {
   "cell_type": "code",
   "execution_count": 40,
   "metadata": {},
   "outputs": [
    {
     "name": "stdout",
     "output_type": "stream",
     "text": [
      "<tf.Variable 'Variable:0' shape=() dtype=int32, numpy=2>\n"
     ]
    }
   ],
   "source": [
    "w=tf.Variable(3)\n",
    "w.assign_sub(1)\n",
    "print(w)"
   ]
  },
  {
   "cell_type": "code",
   "execution_count": 41,
   "metadata": {},
   "outputs": [
    {
     "name": "stdout",
     "output_type": "stream",
     "text": [
      "[[1 2 3]\n",
      " [2 3 4]\n",
      " [5 6 7]\n",
      " [8 7 2]]\n",
      "tf.Tensor([2 2 2 0], shape=(4,), dtype=int64)\n",
      "tf.Tensor([3 3 2], shape=(3,), dtype=int64)\n"
     ]
    }
   ],
   "source": [
    "test=np.array([[1,2,3],[2,3,4],[5,6,7],[8,7,2]])\n",
    "print(test)\n",
    "print(tf.argmax(test,axis=1))\n",
    "print(tf.argmax(test,axis=0))"
   ]
  },
  {
   "cell_type": "code",
   "execution_count": null,
   "metadata": {},
   "outputs": [],
   "source": []
  }
 ],
 "metadata": {
  "kernelspec": {
   "display_name": "tf2",
   "language": "python",
   "name": "tf2"
  },
  "language_info": {
   "codemirror_mode": {
    "name": "ipython",
    "version": 3
   },
   "file_extension": ".py",
   "mimetype": "text/x-python",
   "name": "python",
   "nbconvert_exporter": "python",
   "pygments_lexer": "ipython3",
   "version": "3.7.10"
  }
 },
 "nbformat": 4,
 "nbformat_minor": 4
}
