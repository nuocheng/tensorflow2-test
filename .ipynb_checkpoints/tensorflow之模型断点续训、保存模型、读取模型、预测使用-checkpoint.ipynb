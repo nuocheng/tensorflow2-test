{
 "cells": [
  {
   "cell_type": "markdown",
   "id": "543b8c23",
   "metadata": {},
   "source": [
    "#### 断点续训，存取模型\n",
    "##### 第一种方式\n",
    "- 模型保存\n",
    "   ~~~python\n",
    "   tf.keras.callbacks.ModelCheckpoint(\n",
    "       filepath=路径文件名,\n",
    "       save_weight_only=True/False,\n",
    "       save_best_only=True/False,\n",
    "   )\n",
    "   history=model.fit(callback=[])\n",
    "   ~~~\n",
    "- 读取模型\n",
    "  ~~~python\n",
    "  load_weights(路径文件名)\n",
    "  checkpoint_save_path=\"mnist.ckpt\"\n",
    "  model=创建一个一模一样的模型\n",
    "  #加载参数数据\n",
    "  model.load_weights(checkpoint_save_path)\n",
    "  model.evaluate()#模型评估\n",
    "  ~~~\n",
    "##### 第二种方式\n",
    "- 模型权重参数保存\n",
    "  ~~~python\n",
    "   model.save_weights(model_name)\n",
    "  ~~~\n",
    "- 加载最后一次模型参数数据\n",
    "  ~~~python\n",
    "   model=tf.train.latest_checkpoint(checkpoint_dir=checkpointDir)\n",
    "  ~~~\n",
    "##### 第三种方式（比较常见）\n",
    "- 保存整个模型\n",
    "  ~~~python\n",
    "   model.save(路径)\n",
    "  ~~~\n",
    "- 加载h5模型\n",
    "  ~~~python\n",
    "  model=tf.keras.models.load_model(路径)\n",
    "  ~~~\n",
    " #### 读取模型后进行预测\n",
    " ~~~python\n",
    " model.predict(输入特征)\n",
    "~~~"
   ]
  },
  {
   "cell_type": "code",
   "execution_count": 1,
   "id": "e9d55664",
   "metadata": {},
   "outputs": [],
   "source": [
    "import os\n",
    "import tensorflow as tf\n",
    "import numpy as np\n",
    "from sklearn import datasets\n",
    "from tensorflow.keras import Model"
   ]
  },
  {
   "cell_type": "code",
   "execution_count": 2,
   "id": "d680b1d1",
   "metadata": {},
   "outputs": [],
   "source": [
    "#### 鸢尾花数据加载\n",
    "x_train=datasets.load_iris().data\n",
    "y_train=datasets.load_iris().target\n",
    "np.random.seed(116)\n",
    "np.random.shuffle(x_train)\n",
    "np.random.seed(116)\n",
    "np.random.shuffle(y_train)"
   ]
  },
  {
   "cell_type": "code",
   "execution_count": 3,
   "id": "0412f2f7",
   "metadata": {},
   "outputs": [
    {
     "name": "stdout",
     "output_type": "stream",
     "text": [
      "Train on 120 samples, validate on 30 samples\n",
      "Epoch 1/10\n",
      "120/120 [==============================] - 0s 1ms/sample - loss: 2.8606 - sparse_categorical_accuracy: 0.1750\n",
      "Epoch 2/10\n",
      "120/120 [==============================] - 0s 58us/sample - loss: 2.0261 - sparse_categorical_accuracy: 0.0083\n",
      "Epoch 3/10\n",
      "120/120 [==============================] - 0s 75us/sample - loss: 1.7041 - sparse_categorical_accuracy: 0.1250\n",
      "Epoch 4/10\n",
      "120/120 [==============================] - 0s 91us/sample - loss: 1.5302 - sparse_categorical_accuracy: 0.2667\n",
      "Epoch 5/10\n",
      "120/120 [==============================] - 0s 50us/sample - loss: 1.4352 - sparse_categorical_accuracy: 0.2917\n",
      "Epoch 6/10\n",
      "120/120 [==============================] - 0s 125us/sample - loss: 1.3802 - sparse_categorical_accuracy: 0.3083\n",
      "Epoch 7/10\n",
      "120/120 [==============================] - 0s 67us/sample - loss: 1.3380 - sparse_categorical_accuracy: 0.3417\n",
      "Epoch 8/10\n",
      "120/120 [==============================] - 0s 50us/sample - loss: 1.2989 - sparse_categorical_accuracy: 0.3250\n",
      "Epoch 9/10\n",
      "120/120 [==============================] - 0s 83us/sample - loss: 1.2605 - sparse_categorical_accuracy: 0.3417\n",
      "Epoch 10/10\n",
      "120/120 [==============================] - 0s 50us/sample - loss: 1.2297 - sparse_categorical_accuracy: 0.3500\n"
     ]
    },
    {
     "data": {
      "text/plain": [
       "<tensorflow.python.keras.callbacks.History at 0x2304cccaf88>"
      ]
     },
     "execution_count": 3,
     "metadata": {},
     "output_type": "execute_result"
    }
   ],
   "source": [
    "class my_model(Model):\n",
    "    def __init__(self):\n",
    "        super(my_model,self).__init__()\n",
    "        self.d=tf.keras.layers.Dense(3,activation='softmax',kernel_regularizer=tf.keras.regularizers.l2())\n",
    "    def call(self,x):\n",
    "        return self.d(x)\n",
    "model=my_model()\n",
    "path=\"./checkpoint/\"\n",
    "if not os.path.exists(path):\n",
    "    os.mkdir(path)\n",
    "callback=tf.keras.callbacks.ModelCheckpoint(\n",
    "    filepath=path+\"my_model.ckpt\",\n",
    "    save_bast_only=True,\n",
    "    save_weights_only=True\n",
    ")\n",
    "model.compile(\n",
    "    optimizer=tf.keras.optimizers.SGD(lr=0.01),\n",
    "    loss=tf.keras.losses.SparseCategoricalCrossentropy(from_logits=False),\n",
    "    metrics=['sparse_categorical_accuracy']\n",
    ")\n",
    "#model.fit(x_train,y_train,batch_size=32,epochs=10,validation_split=0.2,validation_freq=20,callbacks=[callback])\n",
    "model.fit(x_train,y_train,batch_size=32,epochs=10,validation_split=0.2,validation_freq=20)"
   ]
  },
  {
   "cell_type": "code",
   "execution_count": 4,
   "id": "ee2fa548",
   "metadata": {},
   "outputs": [
    {
     "name": "stdout",
     "output_type": "stream",
     "text": [
      "150/150 [==============================] - 0s 377us/sample - loss: 1.7807 - sparse_categorical_accuracy: 0.3333\n"
     ]
    },
    {
     "data": {
      "text/plain": [
       "[1.7807463804880779, 0.33333334]"
      ]
     },
     "execution_count": 4,
     "metadata": {},
     "output_type": "execute_result"
    }
   ],
   "source": [
    "###将保存的模型参数进行加载\n",
    "model.load_weights(path+\"my_model.ckpt\")\n",
    "model.evaluate(x_train,y_train)"
   ]
  },
  {
   "cell_type": "code",
   "execution_count": 5,
   "id": "1aeab9b6",
   "metadata": {},
   "outputs": [
    {
     "name": "stdout",
     "output_type": "stream",
     "text": [
      "WARNING:tensorflow:From D:\\Anaconda3\\envs\\tf2\\lib\\site-packages\\tensorflow_core\\python\\ops\\resource_variable_ops.py:1786: calling BaseResourceVariable.__init__ (from tensorflow.python.ops.resource_variable_ops) with constraint is deprecated and will be removed in a future version.\n",
      "Instructions for updating:\n",
      "If using Keras pass *_constraint arguments to layers.\n",
      "INFO:tensorflow:Assets written to: ./h5/assets\n"
     ]
    }
   ],
   "source": [
    "#### 将模型加载成为h5模型\n",
    "if not os.path.exists(\"./h5\"):\n",
    "    os.mkdir(\"./h5\")\n",
    "model.save(\"./h5/\")\n",
    "models=tf.keras.models.load_model(\"./h5/\")"
   ]
  },
  {
   "cell_type": "code",
   "execution_count": 6,
   "id": "ff4fef4f",
   "metadata": {},
   "outputs": [
    {
     "name": "stdout",
     "output_type": "stream",
     "text": [
      "Model: \"my_model\"\n",
      "_________________________________________________________________\n",
      "Layer (type)                 Output Shape              Param #   \n",
      "=================================================================\n",
      "dense (Dense)                multiple                  15        \n",
      "=================================================================\n",
      "Total params: 15\n",
      "Trainable params: 15\n",
      "Non-trainable params: 0\n",
      "_________________________________________________________________\n"
     ]
    }
   ],
   "source": [
    "models.summary()"
   ]
  },
  {
   "cell_type": "code",
   "execution_count": 7,
   "id": "e0c3f911",
   "metadata": {},
   "outputs": [
    {
     "name": "stdout",
     "output_type": "stream",
     "text": [
      "150/150 [==============================] - 0s 412us/sample - loss: 1.7807 - sparse_categorical_accuracy: 0.3333\n"
     ]
    },
    {
     "data": {
      "text/plain": [
       "[1.780746405919393, 0.33333334]"
      ]
     },
     "execution_count": 7,
     "metadata": {},
     "output_type": "execute_result"
    }
   ],
   "source": [
    "models.evaluate(x_train,y_train)"
   ]
  }
 ],
 "metadata": {
  "kernelspec": {
   "display_name": "tf2",
   "language": "python",
   "name": "tf2"
  },
  "language_info": {
   "codemirror_mode": {
    "name": "ipython",
    "version": 3
   },
   "file_extension": ".py",
   "mimetype": "text/x-python",
   "name": "python",
   "nbconvert_exporter": "python",
   "pygments_lexer": "ipython3",
   "version": "3.7.10"
  }
 },
 "nbformat": 4,
 "nbformat_minor": 5
}
