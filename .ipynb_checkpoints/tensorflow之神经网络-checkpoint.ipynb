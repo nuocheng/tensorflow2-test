{
 "cells": [
  {
   "cell_type": "markdown",
   "id": "30d96a21",
   "metadata": {},
   "source": [
    "#### 欠拟合过拟合\n",
    "- 欠拟合的解决方法：\n",
    "  - 增加输入的特征项\n",
    "  - 增加网络参数\n",
    "  - 减少正则化参数\n",
    "- 过拟合的解决方法\n",
    "  - 数据清洗\n",
    "  - 增大训练集\n",
    "  - 采用正则化\n",
    "  - 增大正则参数\n",
    " \n",
    "正则化的选择：\n",
    "\n",
    "L1正则化大概率会使很多参数变为0，因为该方法可以通过稀疏参数，即减少参数的数量，降低复杂度\n",
    "\n",
    "L2正则化会使参数接近0，但不为0，因此该方法可以通过减少参数值的大小降低复杂度"
   ]
  },
  {
   "cell_type": "markdown",
   "id": "59408fd9",
   "metadata": {},
   "source": [
    "#### 使用tf.keras搭建网络8股\n",
    "- import \n",
    "- train,test\n",
    "- model=tf.keras.models.Sequential\n",
    "  - 拉直层：tf.keras.layers.Dense(神经元的个数，activation=\"激活函数\"，kernel_regularizer=那种正则化)\n",
    "  - 卷积层：tf.keras.layers.Conv2D(filters=卷积核个数,kernel_size=卷积核的尺寸,strides=卷积步长,padding=\"valid\" or \"same\"\n",
    "  - LSTM层：tf.keras.layers.LSTM()\n",
    "-  model.compile(optimizer=优化器,loss=损失函数,metrics=[“准确率”])\n",
    "  - optimizer可以选用\n",
    "    - sgd 或者 tf.keras.optimizer.SGD(lr=学习率)\n",
    "    - adam 或者 tf.keras.optimizer.Adam(lr=学习率)\n",
    "  - loss可以选用\n",
    "    - mse 或者 tf.keras.losses.MeanSquaredError()\n",
    "    - sparse_categorical_crossentropy 或者 tf.keras.losses.SparseCatagoricalCrossentropy(from_logits=False)'其中这个from_logits询问的是否是原始输入也就没有经过softmax处理过的数据，如果是经过softmax处理过那么为False，否则为True'\n",
    "  - metrics表示评测指标\n",
    "    - accuracy:y_和y都是数值  y_=[1],y=[1]\n",
    "    - 'categorical_accuracy':y_和y都是独热码（概率分布）\n",
    "    - 'sparse_categorical_accuracy':y_是数值，y是概率分布（独热码）\n",
    "- model.fit(训练特征，训练集标签，batch_size=,epochs=,validation_data(测试集特征，测试集标签),validation_freq=多少次epoch一次,validation_split=从训练街中划分多少比例给测试集)\n",
    "- model.summary"
   ]
  },
  {
   "cell_type": "code",
   "execution_count": 1,
   "id": "ab0276e5",
   "metadata": {},
   "outputs": [],
   "source": [
    "import tensorflow as tf\n",
    "import sklearn import datasets\n",
    "import numpy as np\n",
    "x_train=datasets.load_iris().data\n",
    "y_train=datasets.load_iris().target\n",
    "np.random.seed(116)\n",
    "np.random.shuffle(x_train)\n",
    "np.random.seed(116)\n",
    "np.random.shuffle(y_train)\n",
    "model=tf.keras.Sequential([\n",
    "    tf.keras.layers.Dense(3,activation='softmax',kernel_regularizer=tf.keras.regularizers.l2)\n",
    "])"
   ]
  }
 ],
 "metadata": {
  "kernelspec": {
   "display_name": "tf2",
   "language": "python",
   "name": "tf2"
  },
  "language_info": {
   "codemirror_mode": {
    "name": "ipython",
    "version": 3
   },
   "file_extension": ".py",
   "mimetype": "text/x-python",
   "name": "python",
   "nbconvert_exporter": "python",
   "pygments_lexer": "ipython3",
   "version": "3.7.10"
  }
 },
 "nbformat": 4,
 "nbformat_minor": 5
}
