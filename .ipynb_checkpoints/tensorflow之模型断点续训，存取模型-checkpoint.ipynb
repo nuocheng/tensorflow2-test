{
 "cells": [
  {
   "cell_type": "markdown",
   "id": "543b8c23",
   "metadata": {},
   "source": [
    "#### 断点续训，存取模型\n",
    "- 模型保存\n",
    "   ~~~python\n",
    "   tf.keras.callbacks.ModelCheckpoint(\n",
    "       filepath=路径文件名,\n",
    "       save_weight_only=True/False,\n",
    "       save_best_only=True/False,\n",
    "   )\n",
    "   history=model.fit(callback=[])\n",
    "   ~~~\n",
    "- 读取模型\n",
    "  ~~~python\n",
    "  load_weights(路径文件名)\n",
    "  checkpoint_save_path=\"mnist.ckpt\"\n",
    "  model=创建一个一模一样的模型\n",
    "  #加载参数数据\n",
    "  model.load_weights(checkpoint_save_path)\n",
    "  ~~~\n"
   ]
  },
  {
   "cell_type": "code",
   "execution_count": null,
   "id": "e9d55664",
   "metadata": {},
   "outputs": [],
   "source": []
  }
 ],
 "metadata": {
  "kernelspec": {
   "display_name": "tf2",
   "language": "python",
   "name": "tf2"
  },
  "language_info": {
   "codemirror_mode": {
    "name": "ipython",
    "version": 3
   },
   "file_extension": ".py",
   "mimetype": "text/x-python",
   "name": "python",
   "nbconvert_exporter": "python",
   "pygments_lexer": "ipython3",
   "version": "3.7.10"
  }
 },
 "nbformat": 4,
 "nbformat_minor": 5
}
