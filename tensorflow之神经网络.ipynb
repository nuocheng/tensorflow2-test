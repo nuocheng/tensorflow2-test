{
 "cells": [
  {
   "cell_type": "markdown",
   "id": "30d96a21",
   "metadata": {},
   "source": [
    "#### 欠拟合过拟合\n",
    "- 欠拟合的解决方法：\n",
    "  - 增加输入的特征项\n",
    "  - 增加网络参数\n",
    "  - 减少正则化参数\n",
    "- 过拟合的解决方法\n",
    "  - 数据清洗\n",
    "  - 增大训练集\n",
    "  - 采用正则化\n",
    "  - 增大正则参数\n",
    " \n",
    "正则化的选择：\n",
    "\n",
    "L1正则化大概率会使很多参数变为0，因为该方法可以通过稀疏参数，即减少参数的数量，降低复杂度\n",
    "\n",
    "L2正则化会使参数接近0，但不为0，因此该方法可以通过减少参数值的大小降低复杂度"
   ]
  },
  {
   "cell_type": "markdown",
   "id": "59408fd9",
   "metadata": {},
   "source": [
    "#### 使用tf.keras搭建网络8股\n",
    "- import \n",
    "- train,test\n",
    "- model=tf.keras.models.Sequential\n",
    "  - 拉直层：tf.keras.layers.Dense(神经元的个数，activation=\"激活函数\"，kernel_regularizer=那种正则化)\n",
    "  - 卷积层：tf.keras.layers.Conv2D(filters=卷积核个数,kernel_size=卷积核的尺寸,strides=卷积步长,padding=\"valid\" or \"same\"\n",
    "  - LSTM层：tf.keras.layers.LSTM()\n",
    "-  model.compile(optimizer=优化器,loss=损失函数,metrics=[“准确率”])\n",
    "  - optimizer可以选用\n",
    "    - sgd 或者 tf.keras.optimizer.SGD(lr=学习率)\n",
    "    - adam 或者 tf.keras.optimizer.Adam(lr=学习率)\n",
    "  - loss可以选用\n",
    "    - mse 或者 tf.keras.losses.MeanSquaredError()\n",
    "    - sparse_categorical_crossentropy 或者 tf.keras.losses.SparseCatagoricalCrossentropy(from_logits=False)'其中这个from_logits询问的是否是原始输入也就没有经过softmax处理过的数据，如果是经过softmax处理过那么为False，否则为True'\n",
    "  - metrics表示评测指标\n",
    "    - accuracy:y_和y都是数值  y_=[1],y=[1]\n",
    "    - 'categorical_accuracy':y_和y都是独热码（概率分布）\n",
    "    - 'sparse_categorical_accuracy':y_是数值，y是概率分布（独热码）\n",
    "- model.fit(训练特征，训练集标签，batch_size=,epochs=,validation_data(测试集特征，测试集标签),validation_freq=多少次epoch一次,validation_split=从训练街中划分多少比例给测试集)\n",
    "- model.summary"
   ]
  },
  {
   "cell_type": "code",
   "execution_count": 1,
   "id": "f707da15",
   "metadata": {},
   "outputs": [],
   "source": [
    "import tensorflow as tf\n",
    "from sklearn import datasets\n",
    "import numpy as np\n",
    "x_train=datasets.load_iris().data\n",
    "y_train=datasets.load_iris().target\n",
    "np.random.seed(116)\n",
    "np.random.shuffle(x_train)\n",
    "np.random.seed(116)\n",
    "np.random.shuffle(y_train)"
   ]
  },
  {
   "cell_type": "code",
   "execution_count": 2,
   "id": "ab0276e5",
   "metadata": {},
   "outputs": [
    {
     "name": "stdout",
     "output_type": "stream",
     "text": [
      "Train on 120 samples, validate on 30 samples\n",
      "Epoch 1/10\n",
      "120/120 [==============================] - 0s 1ms/sample - loss: 1.8753 - sparse_categorical_accuracy: 0.0917\n",
      "Epoch 2/10\n",
      "120/120 [==============================] - 0s 41us/sample - loss: 1.4123 - sparse_categorical_accuracy: 0.1583\n",
      "Epoch 3/10\n",
      "120/120 [==============================] - 0s 42us/sample - loss: 1.2384 - sparse_categorical_accuracy: 0.4417\n",
      "Epoch 4/10\n",
      "120/120 [==============================] - 0s 75us/sample - loss: 1.1844 - sparse_categorical_accuracy: 0.3917\n",
      "Epoch 5/10\n",
      "120/120 [==============================] - 0s 58us/sample - loss: 1.1412 - sparse_categorical_accuracy: 0.3833\n",
      "Epoch 6/10\n",
      "120/120 [==============================] - 0s 61us/sample - loss: 1.1101 - sparse_categorical_accuracy: 0.3833\n",
      "Epoch 7/10\n",
      "120/120 [==============================] - 0s 59us/sample - loss: 1.0824 - sparse_categorical_accuracy: 0.3833\n",
      "Epoch 8/10\n",
      "120/120 [==============================] - 0s 66us/sample - loss: 1.0549 - sparse_categorical_accuracy: 0.3750\n",
      "Epoch 9/10\n",
      "120/120 [==============================] - 0s 50us/sample - loss: 1.0281 - sparse_categorical_accuracy: 0.3833\n",
      "Epoch 10/10\n",
      "120/120 [==============================] - 0s 58us/sample - loss: 1.0090 - sparse_categorical_accuracy: 0.3833\n"
     ]
    },
    {
     "data": {
      "text/plain": [
       "<tensorflow.python.keras.callbacks.History at 0x25887644fc8>"
      ]
     },
     "execution_count": 2,
     "metadata": {},
     "output_type": "execute_result"
    }
   ],
   "source": [
    "model=tf.keras.Sequential([\n",
    "    tf.keras.layers.Dense(3,activation='softmax',kernel_regularizer=tf.keras.regularizers.l2())\n",
    "])\n",
    "model.compile(\n",
    "    optimizer=tf.keras.optimizers.SGD(lr=0.01),\n",
    "    loss=tf.keras.losses.SparseCategoricalCrossentropy(from_logits=False),\n",
    "    metrics=['sparse_categorical_accuracy']\n",
    ")\n",
    "model.fit(x_train,y_train,batch_size=32,epochs=10,validation_split=0.2,validation_freq=20)"
   ]
  },
  {
   "cell_type": "markdown",
   "id": "5cf52775",
   "metadata": {},
   "source": [
    "#### 使用class类封装一个网络结构\n",
    "~~~python\n",
    "class MyModel(Model):\n",
    "    def __init__(self): #用于定义网络结果\n",
    "        super(MyModel,self).__init__()\n",
    "    def class(self,x):\n",
    "        调用网络结构模块，实现前向传播\n",
    "        return y\n",
    "model=MyModel()\n",
    "~~~"
   ]
  },
  {
   "cell_type": "code",
   "execution_count": 3,
   "id": "c78080de",
   "metadata": {},
   "outputs": [
    {
     "name": "stdout",
     "output_type": "stream",
     "text": [
      "Train on 120 samples, validate on 30 samples\n",
      "Epoch 1/10\n",
      "120/120 [==============================] - 0s 2ms/sample - loss: 2.4152 - sparse_categorical_accuracy: 0.3750\n",
      "Epoch 2/10\n",
      "120/120 [==============================] - 0s 108us/sample - loss: 1.5888 - sparse_categorical_accuracy: 0.3750\n",
      "Epoch 3/10\n",
      "120/120 [==============================] - 0s 83us/sample - loss: 1.1365 - sparse_categorical_accuracy: 0.6417\n",
      "Epoch 4/10\n",
      "120/120 [==============================] - 0s 58us/sample - loss: 0.9339 - sparse_categorical_accuracy: 0.7000\n",
      "Epoch 5/10\n",
      "120/120 [==============================] - 0s 75us/sample - loss: 0.8574 - sparse_categorical_accuracy: 0.7000\n",
      "Epoch 6/10\n",
      "120/120 [==============================] - 0s 50us/sample - loss: 0.8280 - sparse_categorical_accuracy: 0.7000\n",
      "Epoch 7/10\n",
      "120/120 [==============================] - 0s 83us/sample - loss: 0.8155 - sparse_categorical_accuracy: 0.6917\n",
      "Epoch 8/10\n",
      "120/120 [==============================] - 0s 42us/sample - loss: 0.7999 - sparse_categorical_accuracy: 0.7000\n",
      "Epoch 9/10\n",
      "120/120 [==============================] - 0s 83us/sample - loss: 0.7897 - sparse_categorical_accuracy: 0.6917\n",
      "Epoch 10/10\n",
      "120/120 [==============================] - 0s 33us/sample - loss: 0.7810 - sparse_categorical_accuracy: 0.6917\n"
     ]
    },
    {
     "data": {
      "text/plain": [
       "<tensorflow.python.keras.callbacks.History at 0x2588da06248>"
      ]
     },
     "execution_count": 3,
     "metadata": {},
     "output_type": "execute_result"
    }
   ],
   "source": [
    "from tensorflow.keras.layers import Dense\n",
    "from tensorflow.keras import Model\n",
    "\n",
    "class my_model(Model):\n",
    "    def __init__(self):\n",
    "        super(my_model,self).__init__()\n",
    "        self.d=Dense(3,activation='softmax',kernel_regularizer=tf.keras.regularizers.l2())\n",
    "    def call(self,x):\n",
    "        y=self.d(x)\n",
    "        return y\n",
    "model=my_model()\n",
    "model.compile(\n",
    "    optimizer=tf.keras.optimizers.SGD(lr=0.01),\n",
    "    loss=tf.keras.losses.SparseCategoricalCrossentropy(from_logits=False),\n",
    "    metrics=['sparse_categorical_accuracy']\n",
    ")\n",
    "model.fit(x_train,y_train,batch_size=32,epochs=10,validation_split=0.2,validation_freq=20)"
   ]
  },
  {
   "cell_type": "code",
   "execution_count": null,
   "id": "8e21d084",
   "metadata": {},
   "outputs": [],
   "source": []
  }
 ],
 "metadata": {
  "kernelspec": {
   "display_name": "tf2",
   "language": "python",
   "name": "tf2"
  },
  "language_info": {
   "codemirror_mode": {
    "name": "ipython",
    "version": 3
   },
   "file_extension": ".py",
   "mimetype": "text/x-python",
   "name": "python",
   "nbconvert_exporter": "python",
   "pygments_lexer": "ipython3",
   "version": "3.7.10"
  }
 },
 "nbformat": 4,
 "nbformat_minor": 5
}
