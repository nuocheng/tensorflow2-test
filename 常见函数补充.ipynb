{
 "cells": [
  {
   "cell_type": "code",
   "execution_count": 1,
   "id": "291ec27f",
   "metadata": {},
   "outputs": [],
   "source": [
    "import tensorflow as tf\n",
    "from sklearn.datasets import load_iris\n",
    "import pandas as pd\n",
    "import numpy as np\n",
    "from matplotlib import pyplot as plt"
   ]
  },
  {
   "cell_type": "markdown",
   "id": "25c07875",
   "metadata": {},
   "source": [
    "#### tensorflow常见函数\n",
    "- tf.where(条件语句，真返回A，假返回B)\n",
    "- tf.greater(a,b) a>b"
   ]
  },
  {
   "cell_type": "code",
   "execution_count": 2,
   "id": "e271aac1",
   "metadata": {},
   "outputs": [
    {
     "data": {
      "text/plain": [
       "<tf.Tensor: shape=(5,), dtype=int32, numpy=array([ 1, 22, 33,  4, 55])>"
      ]
     },
     "execution_count": 2,
     "metadata": {},
     "output_type": "execute_result"
    }
   ],
   "source": [
    "a=tf.constant([1,2,3,4,5])\n",
    "b=tf.constant([11,22,33,44,55])\n",
    "tf.where([True,False,False,True,False],a,b)"
   ]
  },
  {
   "cell_type": "code",
   "execution_count": 3,
   "id": "ca48669f",
   "metadata": {},
   "outputs": [
    {
     "data": {
      "text/plain": [
       "<tf.Tensor: shape=(5,), dtype=bool, numpy=array([False, False, False, False, False])>"
      ]
     },
     "execution_count": 3,
     "metadata": {},
     "output_type": "execute_result"
    }
   ],
   "source": [
    "tf.greater(a,b)"
   ]
  },
  {
   "cell_type": "code",
   "execution_count": null,
   "id": "b0625d51",
   "metadata": {},
   "outputs": [],
   "source": []
  }
 ],
 "metadata": {
  "kernelspec": {
   "display_name": "tf2",
   "language": "python",
   "name": "tf2"
  },
  "language_info": {
   "codemirror_mode": {
    "name": "ipython",
    "version": 3
   },
   "file_extension": ".py",
   "mimetype": "text/x-python",
   "name": "python",
   "nbconvert_exporter": "python",
   "pygments_lexer": "ipython3",
   "version": "3.7.10"
  }
 },
 "nbformat": 4,
 "nbformat_minor": 5
}
